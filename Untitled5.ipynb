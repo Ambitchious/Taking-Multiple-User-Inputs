{
  "nbformat": 4,
  "nbformat_minor": 0,
  "metadata": {
    "colab": {
      "provenance": [],
      "authorship_tag": "ABX9TyPa/Sj+wgryVALqhUBLy4A7",
      "include_colab_link": true
    },
    "kernelspec": {
      "name": "python3",
      "display_name": "Python 3"
    },
    "language_info": {
      "name": "python"
    }
  },
  "cells": [
    {
      "cell_type": "markdown",
      "metadata": {
        "id": "view-in-github",
        "colab_type": "text"
      },
      "source": [
        "<a href=\"https://colab.research.google.com/github/Ambitchious/Taking-Multiple-User-Inputs/blob/main/Untitled5.ipynb\" target=\"_parent\"><img src=\"https://colab.research.google.com/assets/colab-badge.svg\" alt=\"Open In Colab\"/></a>"
      ]
    },
    {
      "cell_type": "code",
      "source": [
        "while True:\n",
        "    reply = input(\"Enter Text: \")\n",
        "    if reply == 'stop': break\n",
        "    print(reply)"
      ],
      "metadata": {
        "colab": {
          "base_uri": "https://localhost:8080/"
        },
        "id": "hLTLJh5k7OEP",
        "outputId": "cf5db2b1-159d-4b85-96f7-996a3032dedb"
      },
      "execution_count": 20,
      "outputs": [
        {
          "name": "stdout",
          "output_type": "stream",
          "text": [
            "Enter Text: hi\n",
            "hi\n",
            "Enter Text: hello\n",
            "hello\n",
            "Enter Text: stop\n"
          ]
        }
      ]
    }
  ]
}